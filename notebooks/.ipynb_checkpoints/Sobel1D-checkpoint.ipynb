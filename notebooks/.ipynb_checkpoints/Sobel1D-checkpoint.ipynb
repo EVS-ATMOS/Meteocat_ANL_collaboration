{
 "cells": [
  {
   "cell_type": "code",
   "execution_count": 25,
   "metadata": {
    "collapsed": true
   },
   "outputs": [],
   "source": [
    "import matplotlib.pyplot as plt\n",
    "import pylab as plb\n",
    "import matplotlib as mpl\n",
    "import pyart\n",
    "import numpy as np\n",
    "import scipy as sp\n",
    "import numpy.ma as ma\n",
    "\n",
    "from pylab import *\n",
    "from scipy import ndimage\n",
    "from matplotlib.backends.backend_pdf import PdfPages"
   ]
  },
  {
   "cell_type": "code",
   "execution_count": 26,
   "metadata": {
    "collapsed": true
   },
   "outputs": [],
   "source": [
    "## SETTINGS #####################################################################\n",
    "\n",
    "in_path = './data/'\n",
    "out_path = '/Users/patriciaaltube/Desktop/GradFigures/'\n",
    "filename = 'CDV130618145623.RAWCBRF'\n",
    "radar_abbr = filename[:3]\n",
    "sw_sel = 2\n",
    "\n",
    "# dual-PRF factor (TEMPORARY)\n",
    "N = 3\n",
    "\n",
    "# Gradient kernels in x,y (r,az) dimensions\n",
    "kx = np.array([[-1, 0, 1]])\n",
    "ky = np.transpose(kx)\n",
    "\n",
    "my_cmap = plt.get_cmap('RdBu',15)\n",
    "my_cmap2 = plt.get_cmap('Blues',9)\n",
    "\n",
    "fig_out_edges = out_path + 'Sobel_edges_map.pdf'\n",
    "fig_out_hist = out_path + 'Sobel_edges_hist.pdf'"
   ]
  },
  {
   "cell_type": "code",
   "execution_count": 27,
   "metadata": {
    "collapsed": true
   },
   "outputs": [],
   "source": [
    "## FUNCTIONS #####################################################################\n",
    "\n",
    "# Convolve masked array with any size kernel \n",
    "# (possibilities: normalisation based on number of local valid bins, selection of masked value)\n",
    "\n",
    "def maconvolve(inp, weights, maval=-9999., Nmin= None, output=None, mode='reflect', cval=0.0, origin=0):\n",
    "    \n",
    "    import scipy as sp\n",
    "    from scipy import ndimage\n",
    "    \n",
    "    k = weights\n",
    "    data_in = inp.data\n",
    "    mask_in = inp.mask\n",
    "    \n",
    "    if Nmin is None:\n",
    "        Nmin=np.size(k)\n",
    "    \n",
    "    # Invert the mask and create ones-and-zeros array\n",
    "    mask_num = np.logical_not(mask_in).astype(int)\n",
    "    # Mask data for convolution\n",
    "    data_mask = data_in*mask_num\n",
    "    # Convolve masked data with kernel\n",
    "    data_conv = ndimage.convolve(data_mask, k, mode=mode, output=output, cval=cval, origin=origin)\n",
    "    \n",
    "    # normalisation kernel\n",
    "    k_norm = np.ones(shape(k))\n",
    "    # Convolve mask with normalisation kernel (number of valid bins used in convolution)\n",
    "    mask_conv = ndimage.convolve(mask_num, k_norm, mode=mode, output=output, cval=cval, origin=origin)\n",
    "    mask_conv[mask_conv<Nmin]=0\n",
    "    mask_conv[mask_conv>=Nmin]=1\n",
    "    mask_conv = mask_conv.astype('int')\n",
    "    \n",
    "    mask_out = ma.mask_or(np.logical_not(mask_num).astype(int), np.logical_not(mask_conv).astype(int))\n",
    "    \n",
    "    data_out = ma.masked_array(data_conv, mask_out)\n",
    "        \n",
    "    return data_out\n",
    "    "
   ]
  },
  {
   "cell_type": "code",
   "execution_count": 28,
   "metadata": {
    "collapsed": false
   },
   "outputs": [],
   "source": [
    "## DATA ##########################################################################\n",
    "\n",
    "in_file = in_path + filename\n",
    "radar = pyart.io.read(in_file)\n",
    "radar.metadata['instrument_name'] = radar_abbr\n",
    "\n",
    "# TEMPORARY SCALING\n",
    "Ny_vel = radar.instrument_parameters['nyquist_velocity']['data'][0]*N\n",
    "radar.fields['velocity']['data'] = radar.fields['velocity']['data']*N"
   ]
  },
  {
   "cell_type": "code",
   "execution_count": 29,
   "metadata": {
    "collapsed": false
   },
   "outputs": [],
   "source": [
    "sw_num = radar.nsweeps\n",
    "sw_elevs = [radar.fixed_angle['data'][sw] for sw in range(0, sw_num)]\n",
    "\n",
    "for sw in range(0, sw_num):\n",
    "    \n",
    "    el_sel = sw_elevs[sw]\n",
    "    vel_ma = radar.get_field(sw, 'velocity')\n",
    "\n",
    "    vel_gradx = maconvolve(vel_ma, kx, maval=-9999., mode='wrap')\n",
    "    vel_grady = maconvolve(vel_ma, ky, maval=-9999., mode='reflect')\n",
    "    vel_grad_mod = ma.sqrt(vel_gradx**2 + vel_grady**2)\n",
    "    vel_grad_mod = ma.MaskedArray(vel_grad_mod.data, mask=ma.mask_or(vel_gradx.mask, vel_grady.mask))\n",
    "    \n",
    "    if sw==0:\n",
    "        vel_grad_mod_all = vel_grad_mod\n",
    "        \n",
    "    else:\n",
    "        vel_grad_mod_all = ma.concatenate((vel_grad_mod_all, vel_grad_mod), axis=0)"
   ]
  },
  {
   "cell_type": "code",
   "execution_count": null,
   "metadata": {
    "collapsed": false,
    "scrolled": true
   },
   "outputs": [],
   "source": [
    "mod_f = radar.fields['velocity']\n",
    "mod_f['data'] = vel_grad_mod_all\n",
    "mod_f['long_name'] = 'Velocity gradient module'\n",
    "mod_f['standard_name'] = 'gradient_module'\n",
    "mod_f['units']='m/s'\n",
    "radar.add_field('gradient_module', mod_f)"
   ]
  },
  {
   "cell_type": "code",
   "execution_count": null,
   "metadata": {
    "collapsed": false
   },
   "outputs": [],
   "source": [
    "display = pyart.graph.RadarDisplay(radar)\n",
    "fig = plt.figure(figsize=(8, 6))\n",
    "\n",
    "ax = fig.add_subplot(111)\n",
    "display.plot('gradient_module', sw_sel, vmin=0, vmax=3*Ny_vel, ax=ax, mask_outside=False, cmap=my_cmap2)\n",
    "display.plot_range_rings(range(25, 125, 25), lw=0.5, ls=':')\n",
    "display.plot_cross_hair(0.5)\n",
    "plt.xlim((-75, 75))\n",
    "plt.ylim((-75, 75))\n",
    "\n",
    "pp = PdfPages(fig_out_edges)\n",
    "pp.savefig()\n",
    "pp.close()\n",
    "\n",
    "#plt.show()"
   ]
  },
  {
   "cell_type": "code",
   "execution_count": null,
   "metadata": {
    "collapsed": true
   },
   "outputs": [],
   "source": [
    "datM=radar.get_field(sw_sel, 'gradient_module')"
   ]
  },
  {
   "cell_type": "code",
   "execution_count": null,
   "metadata": {
    "collapsed": true
   },
   "outputs": [],
   "source": [
    "\n",
    "fig = plt.figure()\n",
    "ax = fig.add_subplot(111)\n",
    "(n, bins, patches) = ax.hist(datM.compressed(), bins=5*Ny_vel/2, color='grey', alpha=0.8)\n",
    "ax.set_ylim([0,500])\n",
    "ax.set_xlim([0, 4*Ny_vel])\n",
    "ax.set_xlabel('Gradient module (m/s)')\n",
    "ax.set_ylabel('Pixel counts')\n",
    "\n",
    "pp2 = PdfPages(fig_out_hist)\n",
    "pp2.savefig()\n",
    "pp2.close()\n",
    "#plt.show()"
   ]
  },
  {
   "cell_type": "code",
   "execution_count": null,
   "metadata": {
    "collapsed": true
   },
   "outputs": [],
   "source": []
  }
 ],
 "metadata": {
  "kernelspec": {
   "display_name": "Python 2",
   "language": "python",
   "name": "python2"
  },
  "language_info": {
   "codemirror_mode": {
    "name": "ipython",
    "version": 2
   },
   "file_extension": ".py",
   "mimetype": "text/x-python",
   "name": "python",
   "nbconvert_exporter": "python",
   "pygments_lexer": "ipython2",
   "version": "2.7.10"
  }
 },
 "nbformat": 4,
 "nbformat_minor": 0
}
