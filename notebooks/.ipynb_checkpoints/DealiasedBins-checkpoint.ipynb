{
 "cells": [
  {
   "cell_type": "markdown",
   "metadata": {},
   "source": [
    "# Python/PyArt tests - statistical methods  & finding modified bins\n",
    "_______________________________________________________________________________________________\n",
    "\n",
    "I have been getting familiar with Python and PyArt. This is a script that adds a data field to the radar object that contains the number of Nyquist intervals added or subtracted for each bin after application of the region-based dealiasing algorithm. Output is a PPI plot and the example is based in the following case:\n",
    "![description](files/figs/CDV130618145623_el6_Vdealias.png)\n"
   ]
  },
  {
   "cell_type": "code",
   "execution_count": 1,
   "metadata": {
    "collapsed": true
   },
   "outputs": [],
   "source": [
    "\n",
    "import matplotlib.pyplot as plt\n",
    "import pylab as plb\n",
    "import matplotlib as mpl\n",
    "import pyart\n",
    "import numpy as np\n",
    "import numpy.ma as ma\n",
    "from pylab import *"
   ]
  },
  {
   "cell_type": "code",
   "execution_count": 3,
   "metadata": {
    "collapsed": false
   },
   "outputs": [
    {
     "data": {
      "text/plain": [
       "'1.6.0.dev+84bb00c'"
      ]
     },
     "execution_count": 3,
     "metadata": {},
     "output_type": "execute_result"
    }
   ],
   "source": [
    "pyart.__version__"
   ]
  },
  {
   "cell_type": "code",
   "execution_count": 4,
   "metadata": {
    "collapsed": true
   },
   "outputs": [],
   "source": [
    "## COLORMAP #####################################################################\n",
    "d_cmap = cm.get_cmap('PiYG', 11)"
   ]
  },
  {
   "cell_type": "code",
   "execution_count": 5,
   "metadata": {
    "collapsed": true
   },
   "outputs": [],
   "source": [
    "## SETTINGS #####################################################################\n",
    "\n",
    "in_path = './data/'\n",
    "out_path = './output/'\n",
    "filename = 'CDV130618145623.RAWCBRF'\n",
    "radar_abbr = filename[:3]\n",
    "sw_sel = 2"
   ]
  },
  {
   "cell_type": "code",
   "execution_count": 10,
   "metadata": {
    "collapsed": false
   },
   "outputs": [],
   "source": [
    "## DATA ##########################################################################\n",
    "\n",
    "in_file = in_path + filename\n",
    "#radar = pyart.io.read_rsl(in_file)\n",
    "radar = pyart.io.read(in_file)\n",
    "radar.metadata['instrument_name'] = radar_abbr\n",
    "\n",
    "Ny_vel = radar.instrument_parameters['nyquist_velocity']['data'][0]\n",
    "sw_num = radar.nsweeps\n",
    "sw_elevs = [radar.fixed_angle['data'][sw] for sw in range(0, sw_num-1)]\n",
    "\n",
    "el_sel = sw_elevs[sw_sel]\n",
    "\n",
    "corrV_reg = pyart.correct.dealias_region_based(radar, interval_splits=20, rays_wrap_around=True, keep_original=False)\n",
    "radar.add_field('corrected_velocity_reg', corrV_reg)\n"
   ]
  },
  {
   "cell_type": "code",
   "execution_count": 11,
   "metadata": {
    "collapsed": false
   },
   "outputs": [
    {
     "data": {
      "text/plain": [
       "{'nyquist_velocity': {'comments': 'Unambiguous velocity',\n",
       "  'data': array([ 13.32499981,  13.32499981,  13.32499981, ...,  13.32499981,\n",
       "          13.32499981,  13.32499981], dtype=float32),\n",
       "  'long_name': 'Nyquist velocity',\n",
       "  'meta_group': 'instrument_parameters',\n",
       "  'units': 'meters_per_second'},\n",
       " 'prt': {'comments': 'Pulse repetition time. For staggered prt, also see prt_ratio.',\n",
       "  'data': array([ 0.001,  0.001,  0.001, ...,  0.001,  0.001,  0.001], dtype=float32),\n",
       "  'long_name': 'Pulse repetition time',\n",
       "  'meta_group': 'instrument_parameters',\n",
       "  'units': 'seconds'},\n",
       " 'prt_mode': {'comments': 'Pulsing mode Options are: \"fixed\", \"staggered\", \"dual\". Assumed \"fixed\" if missing.',\n",
       "  'data': array(['fixed', 'fixed', 'fixed', 'fixed', 'fixed', 'fixed', 'fixed',\n",
       "         'fixed', 'fixed'], \n",
       "        dtype='|S5'),\n",
       "  'long_name': 'Pulsing mode',\n",
       "  'meta_group': 'instrument_parameters',\n",
       "  'units': 'unitless'},\n",
       " 'pulse_width': {'comments': 'Pulse width',\n",
       "  'data': array([  4.99999987e-06,   4.99999987e-06,   4.99999987e-06, ...,\n",
       "           4.99999987e-06,   4.99999987e-06,   4.99999987e-06], dtype=float32),\n",
       "  'long_name': 'Pulse width',\n",
       "  'meta_group': 'instrument_parameters',\n",
       "  'units': 'seconds'},\n",
       " 'radar_beam_width_h': {'data': array([ 1.20000005], dtype=float32),\n",
       "  'long_name': 'Antenna beam width H polarization',\n",
       "  'meta_group': 'radar_parameters',\n",
       "  'units': 'degrees'},\n",
       " 'radar_beam_width_v': {'data': array([ 1.10000002], dtype=float32),\n",
       "  'long_name': 'Antenna beam width V polarization',\n",
       "  'meta_group': 'radar_parameters',\n",
       "  'units': 'degrees'},\n",
       " 'unambiguous_range': {'comments': 'Unambiguous range',\n",
       "  'data': array([ 149896.5,  149896.5,  149896.5, ...,  149896.5,  149896.5,\n",
       "          149896.5], dtype=float32),\n",
       "  'long_name': 'Unambiguous range',\n",
       "  'meta_group': 'instrument_parameters',\n",
       "  'units': 'meters'}}"
      ]
     },
     "execution_count": 11,
     "metadata": {},
     "output_type": "execute_result"
    }
   ],
   "source": [
    "radar.instrument_parameters"
   ]
  },
  {
   "cell_type": "code",
   "execution_count": null,
   "metadata": {
    "collapsed": false
   },
   "outputs": [],
   "source": [
    "## STATISTICS of MASKED ARRAYS ###################################################\n",
    "\n",
    "dZ = radar.fields['reflectivity']['data']\n",
    "dZ_mean = ma.mean(dZ)\n",
    "dZ_std = ma.std(dZ)\n",
    "dZ_max = ma.max(dZ)\n",
    "indxs = ma.where(dZ == ma.max(dZ))\n",
    "\n",
    "print('Statistics of reflectivity field: %.0f' % (dZ_mean) + \" +/- \" + '%.0f' % (dZ_std))\n"
   ]
  },
  {
   "cell_type": "code",
   "execution_count": null,
   "metadata": {
    "collapsed": false
   },
   "outputs": [],
   "source": [
    "## CHANGES AFTER DEALIASING #####################################################\n",
    "\n",
    "diff_reg = radar.fields['corrected_velocity_reg']['data'] - radar.fields['velocity']['data']\n",
    "diff_reg_sc = diff_reg/(2*Ny_vel)\n",
    "diff_f = radar.fields['corrected_velocity_reg']\n",
    "diff_f['data'] = diff_reg_sc\n",
    "diff_f['long_name'] = 'Added Nyquist intervals'\n",
    "diff_f['standard_name'] = \"added_Ny_intervals\"\n",
    "diff_f['units']=''\n",
    "radar.add_field('dealiasing_differences_sc', diff_f)"
   ]
  },
  {
   "cell_type": "code",
   "execution_count": null,
   "metadata": {
    "collapsed": false
   },
   "outputs": [],
   "source": [
    "## PLOTTING #####################################################################\n",
    "\n",
    "out_file = out_path + filename.split('.', 1)[0]+ '_el%.0f' % (el_sel) + '_changes.png'\n",
    "\n",
    "display = pyart.graph.RadarDisplay(radar)\n",
    "fig = plt.figure(figsize=(8,6.5))\n",
    "ax = fig.add_subplot(111)\n",
    "#display.plot('dealiasing_differences_sc', sw_sel, vmin=-5, vmax=5, ax=ax, mask_outside=False, cmap=d_cmap)\n",
    "display.plot('velocity', sw_sel, vmin=-Ny_vel, vmax=Ny_vel, ax=ax, mask_outside=False)\n",
    "display.plot_range_rings(range(25, 125, 25))\n",
    "display.plot_cross_hair(0.5)\n",
    "plt.xlim((-75, 75))\n",
    "plt.ylim((-75, 75))\n",
    "#plt.savefig(out_file)\n",
    "#plt.close()\n",
    "plt.show()"
   ]
  },
  {
   "cell_type": "code",
   "execution_count": null,
   "metadata": {
    "collapsed": false
   },
   "outputs": [],
   "source": [
    "indxs = ma.nonzero(diff_reg_sc)\n",
    "Nbin = shape(indxs)[1]"
   ]
  },
  {
   "cell_type": "markdown",
   "metadata": {
    "collapsed": true
   },
   "source": [
    "![description](files/figs/CDV130618145623_el6_changes.png)"
   ]
  }
 ],
 "metadata": {
  "kernelspec": {
   "display_name": "Python 2",
   "language": "python",
   "name": "python2"
  },
  "language_info": {
   "codemirror_mode": {
    "name": "ipython",
    "version": 2
   },
   "file_extension": ".py",
   "mimetype": "text/x-python",
   "name": "python",
   "nbconvert_exporter": "python",
   "pygments_lexer": "ipython2",
   "version": "2.7.10"
  }
 },
 "nbformat": 4,
 "nbformat_minor": 0
}
