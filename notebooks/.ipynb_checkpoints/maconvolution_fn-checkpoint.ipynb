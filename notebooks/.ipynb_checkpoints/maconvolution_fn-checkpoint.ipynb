{
 "cells": [
  {
   "cell_type": "code",
   "execution_count": null,
   "metadata": {
    "collapsed": true
   },
   "outputs": [],
   "source": [
    "import pylab as plb\n",
    "import numpy as np\n",
    "import scipy as sp\n",
    "import numpy.ma as ma\n",
    "\n",
    "from pylab import *\n",
    "from scipy import ndimage"
   ]
  },
  {
   "cell_type": "code",
   "execution_count": null,
   "metadata": {
    "collapsed": true
   },
   "outputs": [],
   "source": [
    "def maconvolve(inp, weights, norm=False, output=None, mode='reflect', cval=0.0, origin=0):\n",
    "    \n",
    "    k = weights\n",
    "    data = inp.data\n",
    "    msk = inp.mask\n",
    "    \n",
    "    # Invert the mask and create ones-and-zeros array\n",
    "    mask_arr = np.logical_not(msk).astype(int)\n",
    "    # Mask data for convolution\n",
    "    data_msk = data*mask_arr\n",
    "    # Convolve masked data with kernel\n",
    "    data_conv = ndimage.convolve(data_msk, k, mode=mode, output=output, cval=cval, origin=origin)\n",
    "    \n",
    "    if norm:\n",
    "        # normalisation kernel\n",
    "        k_norm = np.ones(shape(k))\n",
    "        # Convolve mask with normalisation kernel\n",
    "        mask_conv = ndimage.convolve(mask_arr, k_norm, mode=mode, output=output, cval=cval, origin=origin)\n",
    "        # Normalisation factor (depending on number of non-masked values)\n",
    "        w = 1./mask_conv\n",
    "        data_conv = data_conv*w\n",
    "        \n",
    "    data_out = ma.masked_array(data_conv, msk)\n",
    "    return data_out\n",
    "    "
   ]
  }
 ],
 "metadata": {
  "kernelspec": {
   "display_name": "Python 2",
   "language": "python",
   "name": "python2"
  },
  "language_info": {
   "codemirror_mode": {
    "name": "ipython",
    "version": 2
   },
   "file_extension": ".py",
   "mimetype": "text/x-python",
   "name": "python",
   "nbconvert_exporter": "python",
   "pygments_lexer": "ipython2",
   "version": "2.7.10"
  }
 },
 "nbformat": 4,
 "nbformat_minor": 0
}
