{
 "cells": [
  {
   "cell_type": "code",
   "execution_count": 62,
   "metadata": {
    "collapsed": true
   },
   "outputs": [],
   "source": [
    "import matplotlib.pyplot as plt\n",
    "import pylab as plb\n",
    "import matplotlib as mpl\n",
    "import pyart\n",
    "import numpy as np\n",
    "import scipy as sp\n",
    "import numpy.ma as ma\n",
    "\n",
    "from pylab import *\n",
    "from scipy import ndimage as ndi\n",
    "from skimage import feature\n",
    "from matplotlib.backends.backend_pdf import PdfPages"
   ]
  },
  {
   "cell_type": "code",
   "execution_count": 63,
   "metadata": {
    "collapsed": true
   },
   "outputs": [],
   "source": [
    "## SETTINGS #####################################################################\n",
    "\n",
    "in_path = './data/'\n",
    "out_path = '/Users/patriciaaltube/Desktop/GradFigures/'\n",
    "filename = 'CDV130618145623.RAWCBRF'\n",
    "radar_abbr = filename[:3]\n",
    "sw_sel = 2\n",
    "\n",
    "# dual-PRF factor (TEMPORARY)\n",
    "N = 3\n",
    "NyL = 9.998\n",
    "NyH = 13.325\n",
    "\n",
    "fig_out_edges = out_path + 'Canny_edges_map.pdf'\n"
   ]
  },
  {
   "cell_type": "code",
   "execution_count": 64,
   "metadata": {
    "collapsed": true
   },
   "outputs": [],
   "source": [
    "## DATA ##########################################################################\n",
    "\n",
    "in_file = in_path + filename\n",
    "radar = pyart.io.read(in_file)\n",
    "radar.metadata['instrument_name'] = radar_abbr\n",
    "\n",
    "# TEMPORARY SCALING\n",
    "Ny_vel = radar.instrument_parameters['nyquist_velocity']['data'][0]*N\n",
    "radar.fields['velocity']['data'] = radar.fields['velocity']['data']*N"
   ]
  },
  {
   "cell_type": "code",
   "execution_count": 65,
   "metadata": {
    "collapsed": true
   },
   "outputs": [],
   "source": [
    "\n",
    "sw = sw_sel\n",
    "vel_ma = radar.get_field(sw, 'velocity')\n",
    "vel_data = vel_ma.data\n",
    "edges = feature.canny(vel_data, low_threshold=5.5*NyH, high_threshold=2*Ny_vel, sigma=1.2)\n",
    "    "
   ]
  },
  {
   "cell_type": "code",
   "execution_count": 66,
   "metadata": {
    "collapsed": true
   },
   "outputs": [],
   "source": [
    "from scipy import ndimage as ndi\n",
    "\n",
    "fill_edges = ndi.binary_fill_holes(edges)"
   ]
  },
  {
   "cell_type": "code",
   "execution_count": 68,
   "metadata": {
    "collapsed": false
   },
   "outputs": [],
   "source": [
    "fig = plt.figure()\n",
    "ax1 = fig.add_subplot(121)\n",
    "ax1.imshow(vel_data, cmap=plt.cm.RdBu)\n",
    "ax1.axis('off')\n",
    "ax1.set_title('original', fontsize=20)\n",
    "\n",
    "ax2 = fig.add_subplot(122)\n",
    "ax2.imshow(fill_edges, cmap=plt.cm.gray, interpolation='nearest')\n",
    "ax2.axis('off')\n",
    "ax2.set_title('filled_edges', fontsize=20)\n",
    "plt.show()"
   ]
  },
  {
   "cell_type": "code",
   "execution_count": null,
   "metadata": {
    "collapsed": false
   },
   "outputs": [],
   "source": []
  }
 ],
 "metadata": {
  "kernelspec": {
   "display_name": "Python 2",
   "language": "python",
   "name": "python2"
  },
  "language_info": {
   "codemirror_mode": {
    "name": "ipython",
    "version": 2
   },
   "file_extension": ".py",
   "mimetype": "text/x-python",
   "name": "python",
   "nbconvert_exporter": "python",
   "pygments_lexer": "ipython2",
   "version": "2.7.10"
  }
 },
 "nbformat": 4,
 "nbformat_minor": 0
}
