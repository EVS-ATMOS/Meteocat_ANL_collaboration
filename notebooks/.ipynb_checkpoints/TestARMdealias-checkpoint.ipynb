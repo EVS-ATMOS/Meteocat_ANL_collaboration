{
 "cells": [
  {
   "cell_type": "code",
   "execution_count": 58,
   "metadata": {
    "collapsed": true
   },
   "outputs": [],
   "source": [
    "import os.path\n",
    "import glob\n",
    "import matplotlib.pyplot as plt\n",
    "import pylab as plb\n",
    "import matplotlib as mpl\n",
    "import pyart\n",
    "import numpy as np\n",
    "import scipy as sp\n",
    "import numpy.ma as ma\n",
    "\n",
    "from pylab import *\n",
    "from scipy import ndimage"
   ]
  },
  {
   "cell_type": "code",
   "execution_count": 59,
   "metadata": {
    "collapsed": true
   },
   "outputs": [],
   "source": [
    "## SETTINGS #####################################################################\n",
    "\n",
    "in_path = '/Users/patriciaaltube/Desktop/VelocityQ/data_process/'\n",
    "out_path = '/Users/patriciaaltube/Desktop/figs/'\n",
    "filename = '192036.mdv'\n",
    "#filename = '181737.mdv'\n",
    "\n",
    "sw_sel = 4 # starts counting in 0\n",
    "\n",
    "cmap_vel = plt.get_cmap('RdBu',31)"
   ]
  },
  {
   "cell_type": "code",
   "execution_count": 60,
   "metadata": {
    "collapsed": true
   },
   "outputs": [],
   "source": [
    "## DATA ##########################################################################\n",
    "\n",
    "in_file = in_path + filename\n",
    "radar = pyart.io.read(in_file)"
   ]
  },
  {
   "cell_type": "code",
   "execution_count": 61,
   "metadata": {
    "collapsed": true
   },
   "outputs": [],
   "source": [
    "Ny=radar.instrument_parameters['nyquist_velocity']['data'][0]"
   ]
  },
  {
   "cell_type": "code",
   "execution_count": 62,
   "metadata": {
    "collapsed": true
   },
   "outputs": [],
   "source": [
    "gatefilter = pyart.filters.GateFilter(radar)\n",
    "gatefilter.exclude_invalid('velocity')\n",
    "gatefilter.exclude_invalid('reflectivity')\n",
    "#gatefilter.exclude_below('reflectivity', 0.5)\n",
    "gatefilter.exclude_below('normalized_coherent_power', 0.25)"
   ]
  },
  {
   "cell_type": "code",
   "execution_count": 63,
   "metadata": {
    "collapsed": true
   },
   "outputs": [],
   "source": [
    "V_reg_C = pyart.correct.dealias_region_based(radar, interval_splits=3, gatefilter=gatefilter, centered=True)\n",
    "radar.add_field('velocity_reg_C', V_reg_C)"
   ]
  },
  {
   "cell_type": "code",
   "execution_count": 64,
   "metadata": {
    "collapsed": false
   },
   "outputs": [],
   "source": [
    "V_reg = pyart.correct.dealias_region_based(radar, interval_splits=3, gatefilter=gatefilter, centered=False)\n",
    "radar.add_field('velocity_reg', V_reg)"
   ]
  },
  {
   "cell_type": "code",
   "execution_count": 65,
   "metadata": {
    "collapsed": false
   },
   "outputs": [],
   "source": [
    "## CHANGES AFTER DEALIASING #####################################################\n",
    "\n",
    "diff_reg = radar.fields['velocity_reg']['data'] - radar.fields['velocity']['data']\n",
    "uw_n = diff_reg/(2*Ny)\n",
    "\n",
    "diff_f = radar.fields['velocity_reg'].copy()\n",
    "diff_f['data'] = uw_n\n",
    "diff_f['long_name'] = 'Unwrap number'\n",
    "diff_f['standard_name'] = 'uw_number'\n",
    "diff_f['units']=''\n",
    "radar.add_field('uw_number', diff_f)"
   ]
  },
  {
   "cell_type": "code",
   "execution_count": 66,
   "metadata": {
    "collapsed": false
   },
   "outputs": [],
   "source": [
    "## CHANGES AFTER DEALIASING #####################################################\n",
    "bla = radar.fields['normalized_coherent_power']['data']\n",
    "\n",
    "diff_reg_C = radar.fields['velocity_reg_C']['data'] - radar.fields['velocity']['data']\n",
    "uw_n_C = diff_reg_C/(2*Ny)\n",
    "uw_n_C_w = uw_n_C*bla/bla.sum()\n",
    "\n",
    "diff_f_C = radar.fields['velocity_reg'].copy()\n",
    "diff_f_C['data'] = uw_n_C_w\n",
    "diff_f_C['long_name'] = 'Unwrap number (centered)'\n",
    "diff_f_C['standard_name'] = 'uw_number_C'\n",
    "diff_f_C['units']=''\n",
    "radar.add_field('uw_number_C', diff_f_C)"
   ]
  },
  {
   "cell_type": "code",
   "execution_count": 67,
   "metadata": {
    "collapsed": false
   },
   "outputs": [],
   "source": [
    "#lab_colors=['green','blue','lightgrey', 'red', 'black']\n",
    "#id_cmap = matplotlib.colors.ListedColormap(lab_colors)\n",
    "\n",
    "#display = pyart.graph.RadarDisplay(radar)\n",
    "#fig = plt.figure(figsize=(8,6.5))\n",
    "#ax = fig.add_subplot(111)\n",
    "#display.plot('uw_number', sw_sel, vmin=-2, vmax=2, ax=ax, mask_outside=False, cmap=id_cmap)\n",
    "#display.plot_range_rings(range(25, 125, 25))\n",
    "#display.plot_cross_hair(0.5)\n",
    "#plt.xlim((-130, 130))\n",
    "#plt.ylim((-130, 130))\n",
    "##plt.savefig(out_file)\n",
    "#plt.close()\n",
    "#plt.show()"
   ]
  },
  {
   "cell_type": "code",
   "execution_count": 68,
   "metadata": {
    "collapsed": false
   },
   "outputs": [],
   "source": [
    "plot_data=radar.get_field(sw_sel, 'uw_number_C')\n",
    "\n",
    "fig = plt.figure()\n",
    "ax = fig.add_subplot(111)\n",
    "(n, bins, patches) = ax.hist(plot_data.compressed(), bins=round(3.5*Ny), color='grey', alpha=0.8)\n",
    "ax.set_ylim([0,35000])\n",
    "ax.set_xlim([-2, 2])\n",
    "ax.set_xlabel('Unwrap number')\n",
    "ax.set_ylabel('Pixel counts')\n",
    "\n",
    "plt.show()"
   ]
  },
  {
   "cell_type": "code",
   "execution_count": null,
   "metadata": {
    "collapsed": true
   },
   "outputs": [],
   "source": []
  }
 ],
 "metadata": {
  "kernelspec": {
   "display_name": "Python 2",
   "language": "python",
   "name": "python2"
  },
  "language_info": {
   "codemirror_mode": {
    "name": "ipython",
    "version": 2
   },
   "file_extension": ".py",
   "mimetype": "text/x-python",
   "name": "python",
   "nbconvert_exporter": "python",
   "pygments_lexer": "ipython2",
   "version": "2.7.10"
  }
 },
 "nbformat": 4,
 "nbformat_minor": 0
}
