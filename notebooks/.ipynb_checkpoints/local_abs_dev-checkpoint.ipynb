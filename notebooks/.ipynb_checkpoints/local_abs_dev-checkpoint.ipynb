{
 "cells": [
  {
   "cell_type": "code",
   "execution_count": 93,
   "metadata": {
    "collapsed": true
   },
   "outputs": [],
   "source": [
    "import matplotlib.pyplot as plt\n",
    "import pylab as plb\n",
    "import matplotlib as mpl\n",
    "import pyart\n",
    "import numpy as np\n",
    "import scipy as sp\n",
    "import numpy.ma as ma\n",
    "\n",
    "from pylab import *\n",
    "from scipy import ndimage"
   ]
  },
  {
   "cell_type": "code",
   "execution_count": 94,
   "metadata": {
    "collapsed": false
   },
   "outputs": [],
   "source": [
    "def maconvolve(inp, weights, norm=False, thres=0, output=None, mode='reflect', cval=0.0, origin=0):\n",
    "    \n",
    "    k = weights\n",
    "    data = inp.data\n",
    "    msk = inp.mask\n",
    "    \n",
    "    # Invert the mask and create ones-and-zeros array\n",
    "    mask_arr = np.logical_not(msk).astype(int)\n",
    "    # Mask data for convolution\n",
    "    data_msk = data*mask_arr\n",
    "    # Convolve masked data with kernel\n",
    "    data_conv = ndimage.convolve(data_msk, k, mode=mode, output=output, cval=cval, origin=origin)\n",
    "    \n",
    "    # normalisation kernel\n",
    "    k_norm = np.ones(shape(k))\n",
    "    k_norm[k==0] = 0\n",
    "    # Convolve mask with normalisation kernel\n",
    "    mask_conv = ndimage.convolve(mask_arr, k_norm, mode=mode, output=output, cval=cval, origin=origin)\n",
    "    # Normalisation factor (depending on number of non-masked values)\n",
    "    w = np.zeros(shape(mask_conv))\n",
    "    # A threshold for the number of valid\n",
    "    w[mask_conv>=thres] = 1./mask_conv[mask_conv>=thres]\n",
    "    data_conv[w==0] = 99999\n",
    "        \n",
    "    if norm:\n",
    "        data_conv[w!=0] = data_conv[w!=0]*w[w!=0]\n",
    "        \n",
    "    data_out = ma.masked_equal(data_conv, 99999)\n",
    "    return data_out"
   ]
  },
  {
   "cell_type": "code",
   "execution_count": 95,
   "metadata": {
    "collapsed": false
   },
   "outputs": [],
   "source": [
    "## SETTINGS #####################################################################\n",
    "\n",
    "in_path = './data/'\n",
    "out_path = './output/'\n",
    "filename = 'CDV130618145623.RAWCBRF'\n",
    "radar_abbr = filename[:3]\n",
    "sw_sel = 2 # starts counting in 0\n",
    "\n",
    "## DATA ##########################################################################\n",
    "\n",
    "in_file = in_path + filename\n",
    "radar = pyart.io.read_rsl(in_file)\n",
    "radar.metadata['instrument_name'] = radar_abbr\n",
    "\n",
    "Ny_vel = radar.instrument_parameters['nyquist_velocity']['data'][0]\n",
    "sw_num = radar.nsweeps\n",
    "sw_elevs = [radar.fixed_angle['data'][sw] for sw in range(0, sw_num-1)]\n",
    "\n",
    "el_sel = sw_elevs[sw_sel]\n",
    "\n",
    "vel_ma = radar.get_field(sw_sel, 'velocity')\n",
    "\n",
    "k_mean = np.array([[1,1,1,1,1], [1,1,1,1,1], [1,1,0,1,1], [1,1,1,1,1], [1,1,1,1,1]])\n",
    "\n",
    "# Convolve using mirror for boundaries\n",
    "meanv_ma = maconvolve(vel_ma, k_mean, norm=True, thres=9, mode='mirror')\n"
   ]
  },
  {
   "cell_type": "code",
   "execution_count": 96,
   "metadata": {
    "collapsed": true
   },
   "outputs": [],
   "source": [
    "ma.masked_equal(meanv_ma, 99999)\n",
    "# Absolute deviation of the bin from the local mean\n",
    "absdev = abs(vel_ma - meanv_ma)\n",
    "# Separate into odd and even radial rays\n",
    "absdev_odd = absdev[0::2, :]\n",
    "absdev_even = absdev[1::2, :]"
   ]
  },
  {
   "cell_type": "code",
   "execution_count": 98,
   "metadata": {
    "collapsed": true
   },
   "outputs": [],
   "source": [
    "fig = plt.figure()\n",
    "ax = fig.add_subplot(111)\n",
    "(n, bins, patches) = ax.hist(absdev_even.compressed(), 150, color='green', alpha=0.8)\n",
    "ax.set_ylim([0,800])\n",
    "ax.set_xlim([0, Ny_vel])\n",
    "plt.show()"
   ]
  },
  {
   "cell_type": "code",
   "execution_count": null,
   "metadata": {
    "collapsed": true
   },
   "outputs": [],
   "source": []
  }
 ],
 "metadata": {
  "kernelspec": {
   "display_name": "Python 2",
   "language": "python",
   "name": "python2"
  },
  "language_info": {
   "codemirror_mode": {
    "name": "ipython",
    "version": 2
   },
   "file_extension": ".py",
   "mimetype": "text/x-python",
   "name": "python",
   "nbconvert_exporter": "python",
   "pygments_lexer": "ipython2",
   "version": "2.7.10"
  }
 },
 "nbformat": 4,
 "nbformat_minor": 0
}
