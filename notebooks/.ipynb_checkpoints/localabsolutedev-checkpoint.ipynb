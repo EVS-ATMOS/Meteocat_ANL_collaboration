{
 "cells": [
  {
   "cell_type": "code",
   "execution_count": null,
   "metadata": {
    "collapsed": true
   },
   "outputs": [],
   "source": [
    "import matplotlib.pyplot as plt\n",
    "import pylab as plb\n",
    "import matplotlib as mpl\n",
    "import pyart\n",
    "import numpy as np\n",
    "import scipy as sp\n",
    "import numpy.ma as ma\n",
    "\n",
    "from pylab import *\n",
    "from scipy import ndimage"
   ]
  },
  {
   "cell_type": "code",
   "execution_count": null,
   "metadata": {
    "collapsed": true
   },
   "outputs": [],
   "source": [
    "def maconvolve(inp, weights, norm=False, output=None, mode='reflect', cval=0.0, origin=0):\n",
    "    \n",
    "    k = weights\n",
    "    data = inp.data\n",
    "    msk = inp.mask\n",
    "    \n",
    "    # Invert the mask and create ones-and-zeros array\n",
    "    mask_arr = np.logical_not(msk).astype(int)\n",
    "    # Mask data for convolution\n",
    "    data_msk = data*mask_arr\n",
    "    # Convolve masked data with kernel\n",
    "    data_conv = ndimage.convolve(data_msk, k, mode=mode, output=output, cval=cval, origin=origin)\n",
    "    \n",
    "    if norm:\n",
    "        # normalisation kernel\n",
    "        k_norm = np.ones(shape(k))\n",
    "        # Convolve mask with normalisation kernel\n",
    "        mask_conv = ndimage.convolve(mask_arr, k_norm, mode=mode, output=output, cval=cval, origin=origin)\n",
    "        # Normalisation factor (depending on number of non-masked values)\n",
    "        w = np.zeros(shape(mask_conv))\n",
    "        w[mask_conv!=0] = 1./mask_conv[mask_conv!=0]\n",
    "        data_conv[w==0] = 99999\n",
    "        data_conv[w!=0] = data_conv[w!=0]*w[w!=0]\n",
    "        \n",
    "    data_out = ma.masked_array(data_conv, msk)\n",
    "    return data_out"
   ]
  },
  {
   "cell_type": "code",
   "execution_count": null,
   "metadata": {
    "collapsed": true
   },
   "outputs": [],
   "source": [
    "## SETTINGS #####################################################################\n",
    "\n",
    "in_path = './data/'\n",
    "out_path = './output/'\n",
    "filename = 'CDV130618145623.RAWCBRF'\n",
    "radar_abbr = filename[:3]\n",
    "sw_sel = 7 # starts counting in 0"
   ]
  },
  {
   "cell_type": "code",
   "execution_count": null,
   "metadata": {
    "collapsed": false
   },
   "outputs": [],
   "source": [
    "## DATA ##########################################################################\n",
    "\n",
    "in_file = in_path + filename\n",
    "radar = pyart.io.read_rsl(in_file)\n",
    "radar.metadata['instrument_name'] = radar_abbr\n",
    "\n",
    "Ny_vel = radar.instrument_parameters['nyquist_velocity']['data'][0]\n",
    "sw_num = radar.nsweeps\n",
    "sw_elevs = [radar.fixed_angle['data'][sw] for sw in range(0, sw_num-1)]\n",
    "\n",
    "el_sel = sw_elevs[sw_sel]\n",
    "\n",
    "vel_ma = radar.get_field(sw_sel, 'velocity')\n",
    "vel_dict = {'data': vel_ma.data, 'mask': vel_ma.mask}"
   ]
  },
  {
   "cell_type": "code",
   "execution_count": null,
   "metadata": {
    "collapsed": false
   },
   "outputs": [],
   "source": [
    "k_mean = np.ones((3, 5))\n",
    "dim_km = shape(k_mean)\n",
    "\n",
    "# wrap data in azimuth and mask for convolution\n",
    "vel_tmp = vel_dict\n",
    "for n in range(0, dim_km[0]-1):\n",
    "    for kk in vel_dict.keys():\n",
    "        vel_tmp[kk] = np.vstack([vel_tmp[kk], vel_dict[kk][n,:]])\n",
    "        vel_tmp[kk] = np.vstack([vel_dict[kk][-(n+1),:], vel_tmp[kk]])\n",
    "        \n",
    "        \n",
    "vel4conv = ma.masked_array(vel_tmp['data'], mask=vel_tmp['mask'])\n",
    "\n",
    "# Convolve using mirror for boundaries\n",
    "meanv_ma = maconvolve(vel4conv, k_mean, norm=True, mode='mirror')"
   ]
  },
  {
   "cell_type": "code",
   "execution_count": null,
   "metadata": {
    "collapsed": false
   },
   "outputs": [],
   "source": [
    "# Remove wrapped azimuth rows\n",
    "meanv_dict = {'data': meanv_ma.data, 'mask': meanv_ma.mask}\n",
    "for n in range(0, dim_km[0]-1):\n",
    "    for kk in vel_dict.keys():\n",
    "        meanv_dict[kk] = np.delete(meanv_dict[kk], (0), axis=0)\n",
    "        meanv_dict[kk] = np.delete(meanv_dict[kk], (-1), axis=0)\n",
    "\n",
    "meanv_ma = ma.masked_array(meanv_dict['data'], mask=meanv_dict['mask'])"
   ]
  },
  {
   "cell_type": "code",
   "execution_count": null,
   "metadata": {
    "collapsed": true
   },
   "outputs": [],
   "source": [
    "# Absolute deviation of the bin from the local mean\n",
    "absdev = vel_ma - meanv_ma\n",
    "# Separate into odd and even radial rays\n",
    "absdev_odd = absdev[0::2, :]\n",
    "absdev_even = absdev[1::2, :]"
   ]
  },
  {
   "cell_type": "code",
   "execution_count": null,
   "metadata": {
    "collapsed": false
   },
   "outputs": [],
   "source": [
    "fig = plt.figure()\n",
    "ax = fig.add_subplot(111)\n",
    "ax.hist(absdev_odd.compressed(), 300, color='green', alpha=0.8)\n",
    "ax.set_ylim([0,300])\n",
    "ax.set_xlim([-Ny_vel, Ny_vel])\n",
    "plt.show()"
   ]
  },
  {
   "cell_type": "code",
   "execution_count": null,
   "metadata": {
    "collapsed": false
   },
   "outputs": [],
   "source": [
    "80/0.3"
   ]
  },
  {
   "cell_type": "code",
   "execution_count": null,
   "metadata": {
    "collapsed": true
   },
   "outputs": [],
   "source": []
  }
 ],
 "metadata": {
  "kernelspec": {
   "display_name": "Python 2",
   "language": "python",
   "name": "python2"
  },
  "language_info": {
   "codemirror_mode": {
    "name": "ipython",
    "version": 2
   },
   "file_extension": ".py",
   "mimetype": "text/x-python",
   "name": "python",
   "nbconvert_exporter": "python",
   "pygments_lexer": "ipython2",
   "version": "2.7.10"
  }
 },
 "nbformat": 4,
 "nbformat_minor": 0
}
