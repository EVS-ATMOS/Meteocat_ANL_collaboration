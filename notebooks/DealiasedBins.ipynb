{
 "cells": [
  {
   "cell_type": "markdown",
   "metadata": {},
   "source": [
    "# Python/PyArt tests - statistical methods  & finding modified bins\n",
    "_______________________________________________________________________________________________\n",
    "\n",
    "I have been getting familiar with Python and PyArt. This is a script that adds a data field to the radar object that contains the number of Nyquist intervals added or subtracted for each bin after application of the region-based dealiasing algorithm. Output is a PPI plot and the example is based in the following case:\n",
    "![description](files/figs/CDV130618145623_el6_Vdealias.png)\n"
   ]
  },
  {
   "cell_type": "code",
   "execution_count": 23,
   "metadata": {
    "collapsed": true
   },
   "outputs": [],
   "source": [
    "#! /usr/bin/env python\n",
    "\n",
    "import matplotlib.pyplot as plt\n",
    "import pylab as plb\n",
    "import matplotlib as mpl\n",
    "import pyart\n",
    "import numpy as np\n",
    "import numpy.ma as ma\n",
    "from pylab import *"
   ]
  },
  {
   "cell_type": "code",
   "execution_count": 24,
   "metadata": {
    "collapsed": true
   },
   "outputs": [],
   "source": [
    "## SETTINGS #####################################################################\n",
    "d_cmap = cm.get_cmap('PiYG', 11)"
   ]
  },
  {
   "cell_type": "code",
   "execution_count": 25,
   "metadata": {
    "collapsed": true
   },
   "outputs": [],
   "source": [
    "## SETTINGS #####################################################################\n",
    "\n",
    "in_path = './data/'\n",
    "out_path = './output/'\n",
    "filename = 'CDV130618145623.RAWCBRF'\n",
    "radar_abbr = filename[:3]\n",
    "sw_sel = 2"
   ]
  },
  {
   "cell_type": "code",
   "execution_count": 26,
   "metadata": {
    "collapsed": true
   },
   "outputs": [],
   "source": [
    "## DATA ##########################################################################\n",
    "\n",
    "in_file = in_path + filename\n",
    "radar = pyart.io.read_rsl(in_file)\n",
    "radar.metadata['instrument_name'] = radar_abbr\n",
    "\n",
    "Ny_vel = radar.instrument_parameters['nyquist_velocity']['data'][0]\n",
    "sw_num = radar.nsweeps\n",
    "sw_elevs = [radar.fixed_angle['data'][sw] for sw in range(0, sw_num-1)]\n",
    "\n",
    "el_sel = sw_elevs[sw_sel]\n",
    "\n",
    "corrV_reg = pyart.correct.dealias_region_based(radar, interval_splits=20, rays_wrap_around=True, keep_original=False)\n",
    "radar.add_field('corrected_velocity_reg', corrV_reg)\n"
   ]
  },
  {
   "cell_type": "code",
   "execution_count": 27,
   "metadata": {
    "collapsed": false
   },
   "outputs": [
    {
     "name": "stdout",
     "output_type": "stream",
     "text": [
      "Statistics of reflectivity field: 4 +/- 10\n"
     ]
    }
   ],
   "source": [
    "## STATISTICS of MASKED ARRAYS ###################################################\n",
    "\n",
    "dZ = radar.fields['reflectivity']['data']\n",
    "dZ_mean = ma.mean(dZ)\n",
    "dZ_std = ma.std(dZ)\n",
    "dZ_max = ma.max(dZ)\n",
    "indxs = ma.where(dZ == ma.max(dZ))\n",
    "\n",
    "print('Statistics of reflectivity field: %.0f' % (dZ_mean) + \" +/- \" + '%.0f' % (dZ_std))\n"
   ]
  },
  {
   "cell_type": "code",
   "execution_count": 28,
   "metadata": {
    "collapsed": false
   },
   "outputs": [],
   "source": [
    "## CHANGES AFTER DEALIASING #####################################################\n",
    "\n",
    "diff_reg = radar.fields['corrected_velocity_reg']['data'] - radar.fields['velocity']['data']\n",
    "diff_reg_sc = diff_reg/Ny_vel\n",
    "diff_f = radar.fields['corrected_velocity_reg']\n",
    "diff_f['data'] = diff_reg_sc\n",
    "diff_f['long_name'] = 'Added Nyquist intervals'\n",
    "diff_f['standard_name'] = \"added_Ny_intervals\"\n",
    "diff_f['units']=''\n",
    "radar.add_field('dealiasing_differences_sc', diff_f)"
   ]
  },
  {
   "cell_type": "code",
   "execution_count": 29,
   "metadata": {
    "collapsed": false
   },
   "outputs": [],
   "source": [
    "## PLOTTING #####################################################################\n",
    "\n",
    "out_file = out_path + filename.split('.', 1)[0]+ '_el%.0f' % (el_sel) + '_changes.png'\n",
    "\n",
    "display = pyart.graph.RadarDisplay(radar)\n",
    "fig = plt.figure(figsize=(8,6.5))\n",
    "ax = fig.add_subplot(111)\n",
    "display.plot('dealiasing_differences_sc', sw_sel, vmin=-5, vmax=5, ax=ax, mask_outside=False, cmap=d_cmap)\n",
    "display.plot_range_rings(range(25, 125, 25))\n",
    "display.plot_cross_hair(0.5)\n",
    "plt.xlim((-75, 75))\n",
    "plt.ylim((-75, 75))\n",
    "plt.savefig(out_file)\n",
    "plt.close()\n",
    "#plt.show()"
   ]
  },
  {
   "cell_type": "markdown",
   "metadata": {
    "collapsed": true
   },
   "source": [
    "![description](files/figs/CDV130618145623_el6_changes.png)"
   ]
  }
 ],
 "metadata": {
  "kernelspec": {
   "display_name": "Python 2",
   "language": "python",
   "name": "python2"
  },
  "language_info": {
   "codemirror_mode": {
    "name": "ipython",
    "version": 2
   },
   "file_extension": ".py",
   "mimetype": "text/x-python",
   "name": "python",
   "nbconvert_exporter": "python",
   "pygments_lexer": "ipython2",
   "version": "2.7.10"
  }
 },
 "nbformat": 4,
 "nbformat_minor": 0
}
