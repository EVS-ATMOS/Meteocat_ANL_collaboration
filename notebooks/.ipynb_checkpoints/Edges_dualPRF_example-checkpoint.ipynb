{
 "cells": [
  {
   "cell_type": "markdown",
   "metadata": {},
   "source": [
    "# Finding edges of aliased regions\n",
    "_______________________________________________________________________________________________\n",
    "\n",
    "This script contains three functions: 1) auxiliary function to convolve masked arrays, 2) a function that finds edges of aliased regions based on the horizontal velocity gradients (1dim Sobel filters) and 3) a function that creates an array used to mask outliers derived from dual-PRF dealiasing errors.\n",
    "These three functions are applied to a case example and the resulting edge (velocity gradient) histogram is compared before and after application of the outlier mask.\n"
   ]
  },
  {
   "cell_type": "code",
   "execution_count": 1,
   "metadata": {
    "collapsed": true
   },
   "outputs": [],
   "source": [
    "import matplotlib.pyplot as plt\n",
    "import pylab as plb\n",
    "import matplotlib as mpl\n",
    "import pyart\n",
    "import numpy as np\n",
    "import scipy as sp\n",
    "import numpy.ma as ma\n",
    "\n",
    "from pylab import *\n",
    "from scipy import ndimage\n",
    "from matplotlib.backends.backend_pdf import PdfPages"
   ]
  },
  {
   "cell_type": "code",
   "execution_count": 2,
   "metadata": {
    "collapsed": true
   },
   "outputs": [],
   "source": [
    "def local_valid(mask, dim, Nmin=None, **kwargs):\n",
    "    \n",
    "    if Nmin is None:\n",
    "        Nmin = 1\n",
    "        \n",
    "    # Count number of non-masked local values\n",
    "    k = np.ones(dim)\n",
    "    valid = ndimage.convolve((~mask).astype(int), k, **kwargs)\n",
    "    \n",
    "    mask_out = np.zeros(mask.shape)\n",
    "    mask_out[valid<Nmin]=1\n",
    "    \n",
    "    return valid, mask_out.astype(bool)\n",
    " "
   ]
  },
  {
   "cell_type": "code",
   "execution_count": 3,
   "metadata": {
    "collapsed": false
   },
   "outputs": [],
   "source": [
    "def maconvolve(ma_array, weights, Nmin=None, **kwargs):\n",
    "\n",
    "    ## Convolve masked array with generic kernel ##  \n",
    "\n",
    "    k = weights\n",
    "    data = ma_array.data\n",
    "    mask = ma_array.mask\n",
    "    \n",
    "    # Minimum number of non-masked local values required for the convolution\n",
    "    if Nmin is None:\n",
    "        Nmin=1\n",
    "    \n",
    "    # Data convolution (replace masked values by 0)\n",
    "    data_conv = ndimage.convolve(ma.filled(data,0), k, **kwargs)\n",
    "    \n",
    "    # Count number of non-masked local values\n",
    "    valid, mask_conv = local_valid(mask, k.shape, Nmin=Nmin, **kwargs)\n",
    "    \n",
    "    # New mask and replace masked values by required fill value\n",
    "    mask_out = mask_conv | mask\n",
    "    data_out = ma.masked_array(data_conv, mask_out)\n",
    "        \n",
    "    # Returns a masked array\n",
    "    return data_out"
   ]
  },
  {
   "cell_type": "code",
   "execution_count": 4,
   "metadata": {
    "collapsed": true
   },
   "outputs": [],
   "source": [
    "def aliased_edges(radar):\n",
    "    \n",
    "    ## Find edges of aliased regions based on the horizontal velocity gradients ##\n",
    "    \n",
    "    v_field = radar.fields['velocity']\n",
    "    v_data = v_field['data']\n",
    "    \n",
    "    # Gradient kernels in x,y (r,az) dimensions\n",
    "    kx = np.array([[-1, 0, 1]])\n",
    "    ky = np.transpose(kx)\n",
    "    \n",
    "    g_data = v_data.copy()\n",
    "    \n",
    "    for nsweep, sweep_slice in enumerate(radar.iter_slice()):\n",
    "\n",
    "        v_data_sw = v_data[sweep_slice]\n",
    "        \n",
    "        # Horizonal gradient components\n",
    "        gx_data_sw = maconvolve(v_data_sw, kx, Nmin=3, mode='wrap')\n",
    "        gy_data_sw = maconvolve(v_data_sw, ky, Nmin=3, mode='reflect')\n",
    "        \n",
    "        # Magnitude and direction of horizontal gradient\n",
    "        g_data_sw = np.sqrt(ma.filled(gx_data_sw,0)**2 + ma.filled(gy_data_sw,0)**2)\n",
    "        \n",
    "        # New mask: mask values only when both gradient components are masked\n",
    "        mask_sw = (gx_data_sw.mask) & (gy_data_sw.mask)\n",
    "        \n",
    "        g_data[sweep_slice] = ma.array(g_data_sw, mask=mask_sw)\n",
    "        \n",
    "    g_field = v_field.copy()\n",
    "    g_field['data'] = g_data\n",
    "    g_field['long_name'] = 'Velocity gradient module'\n",
    "    g_field['standard_name'] = 'gradient_module'\n",
    "    g_field['units']='m/s'\n",
    "    \n",
    "    # Returns magnitude of gradient shaped as radar object fields\n",
    "    return g_field\n",
    "    "
   ]
  },
  {
   "cell_type": "code",
   "execution_count": 5,
   "metadata": {
    "collapsed": true
   },
   "outputs": [],
   "source": [
    "def get_dualPRF_pars(radar):\n",
    "    \n",
    "    pars = radar.instrument_parameters\n",
    "    \n",
    "    Ny = pars['nyquist_velocity']['data'][0]\n",
    "    prt_mode = pars['prt_mode']['data'][0]\n",
    "    Ny_H = Ny\n",
    "    Ny_L = Ny\n",
    "    prf_odd = None\n",
    "    \n",
    "    if prt_mode=='dual':\n",
    "    \n",
    "        f = pars['prt_ratio']['data'][0]\n",
    "        N = round(1/(f-1))\n",
    "        Ny_H = Ny/N\n",
    "        Ny_L = Ny/(N+1)   \n",
    "        prf_odd = pars['prf_flag']['data'][0]\n",
    "    \n",
    "    return Ny, Ny_H, Ny_L, f, N, prf_odd\n"
   ]
  },
  {
   "cell_type": "code",
   "execution_count": 6,
   "metadata": {
    "collapsed": true
   },
   "outputs": [],
   "source": [
    "def dualPRF_outliers(data_ma, Ny, Ny_H, f, k_size=(3,5), Nmin=9, prf_odd=0, upper_lim_fac=1.5):\n",
    "    \n",
    "    ## Find outliers resulting from dual-PRF dealiasing errors ##\n",
    "    \n",
    "    data = data_ma.data\n",
    "    mask = data_ma.mask\n",
    "    \n",
    "    # Nyquist velocities corresponding to odd and even rays\n",
    "    Ny_L = Ny_H/f\n",
    "    Ny_odd = Ny_H\n",
    "    Ny_even = Ny_L\n",
    "    \n",
    "    if prf_odd is None:\n",
    "        return\n",
    "    if prf_odd==1:\n",
    "        Ny_odd = Ny_L\n",
    "        Ny_even = Ny_H\n",
    "    \n",
    "    # Footprint (region around the pixel where median is computed)\n",
    "    k = np.ones(k_size)\n",
    "    \n",
    "    # Convert masked data to nan and apply median filter \n",
    "    data_nan = np.where(np.logical_not(mask), data, np.nan)\n",
    "    med_data = sp.ndimage.generic_filter(data_nan, np.nanmedian, mode='mirror', footprint=k)\n",
    "    \n",
    "    # Absolute deviation of the pixel velocity from the local median\n",
    "    dev_data = np.abs(data_nan - med_data)\n",
    "    dev_data[where(np.isnan(dev_data))]=0\n",
    "    \n",
    "    # Separate into odd and even rays\n",
    "    dev_odd = dev_data[1::2, :]\n",
    "    dev_even = dev_data[0::2, :]\n",
    "    \n",
    "    # Outlier matrix\n",
    "    out = np.zeros(dev_data.shape)\n",
    "    out_odd = out[1::2, :]\n",
    "    out_even = out[0::2, :]\n",
    "    out_odd[ma.where((dev_odd>=Ny_odd)&(dev_odd<=upper_lim_fac*Ny))] = 1\n",
    "    out_even[ma.where((dev_even>=Ny_even)&(dev_even<=upper_lim_fac*Ny))] = 1\n",
    "    \n",
    "    # Find local medians calculated with the required minimum number of valid values\n",
    "    norms = sp.ndimage.convolve(np.logical_not(mask).astype(int), weights=k, mode='mirror')\n",
    "    out[np.where(norms<Nmin)]=0\n",
    "\n",
    "    tot_out = np.sum(out)/data_ma.count()\n",
    "    out = ma.array(out, mask=mask)\n",
    "    \n",
    "    # Returns fraction of outliers and masked array of outliers positions\n",
    "    return tot_out, out\n",
    "    "
   ]
  },
  {
   "cell_type": "markdown",
   "metadata": {},
   "source": [
    "Application to case example (Creu del Vent radar; 06-18-2013 at 14:56UTC; elevation 0.6º):"
   ]
  },
  {
   "cell_type": "code",
   "execution_count": 7,
   "metadata": {
    "collapsed": true
   },
   "outputs": [],
   "source": [
    "## SETTINGS #####################################################################\n",
    "\n",
    "in_path = './data/'\n",
    "out_path = '/Users/patriciaaltube/Desktop/figs/'\n",
    "filename = 'CDV130618145623.RAWCBRF'\n",
    "\n",
    "sw_sel = 2 # starts counting in 0\n",
    "\n",
    "cmap_vel = plt.get_cmap('RdBu',31)\n",
    "cmap_edges = plt.get_cmap('Blues',12)\n",
    "cmap_out = plt.get_cmap('Reds',2)\n",
    "\n",
    "fig_vel_out = out_path + 'a_velocity_map.png'\n",
    "fig_edges_out = out_path + 'b_edges_map.png'\n",
    "fig_outliers = out_path + 'c_outliers_map.png'\n",
    "fig_vel = out_path + 'd_velocity_map.png'\n",
    "fig_edges = out_path + 'e_edges_map.png'\n",
    "fig_hist_out = out_path + 'f_gradient_hist.png'\n",
    "fig_hist = out_path + 'g_gradient_hist.png'"
   ]
  },
  {
   "cell_type": "markdown",
   "metadata": {},
   "source": [
    "The dual-PRF data: "
   ]
  },
  {
   "cell_type": "code",
   "execution_count": 8,
   "metadata": {
    "collapsed": false
   },
   "outputs": [],
   "source": [
    "## DATA ##########################################################################\n",
    "\n",
    "in_file = in_path + filename\n",
    "radar = pyart.io.read(in_file)\n",
    "\n",
    "Ny_vel, Ny_H, Ny_L, f_ratio, N, odd = get_dualPRF_pars(radar)"
   ]
  },
  {
   "cell_type": "code",
   "execution_count": 9,
   "metadata": {
    "collapsed": false
   },
   "outputs": [],
   "source": [
    "display = pyart.graph.RadarDisplay(radar)\n",
    "fig = plt.figure(figsize=(8, 6))\n",
    "\n",
    "ax = fig.add_subplot(111)\n",
    "display.plot('velocity', sw_sel, vmin=-Ny_vel, vmax=Ny_vel, ax=ax, mask_outside=False, cmap=cmap_vel)\n",
    "display.plot_range_rings(range(25, 125, 25), lw=0.5, ls=':')\n",
    "display.plot_cross_hair(0.5)\n",
    "plt.xlim((-75, 75))\n",
    "plt.ylim((-75, 75))\n",
    "\n",
    "plt.savefig(fig_vel_out)"
   ]
  },
  {
   "cell_type": "markdown",
   "metadata": {},
   "source": [
    "Find edges in non-corrected velocity data (includes dual-PRF errors):"
   ]
  },
  {
   "cell_type": "code",
   "execution_count": 10,
   "metadata": {
    "collapsed": false
   },
   "outputs": [],
   "source": [
    "grad_mod_out = aliased_edges(radar)\n",
    "radar.add_field('gradient_module_out', grad_mod_out)"
   ]
  },
  {
   "cell_type": "code",
   "execution_count": 11,
   "metadata": {
    "collapsed": false
   },
   "outputs": [],
   "source": [
    "display = pyart.graph.RadarDisplay(radar)\n",
    "fig = plt.figure(figsize=(8, 6))\n",
    "\n",
    "ax = fig.add_subplot(111)\n",
    "display.plot('gradient_module_out', sw_sel, vmin=0, vmax=3*Ny_vel, ax=ax, mask_outside=False, cmap=cmap_edges)\n",
    "display.plot_range_rings(range(25, 125, 25), lw=0.5, ls=':')\n",
    "display.plot_cross_hair(0.5)\n",
    "plt.xlim((-75, 75))\n",
    "plt.ylim((-75, 75))\n",
    "\n",
    "plt.savefig(fig_edges_out)"
   ]
  },
  {
   "cell_type": "markdown",
   "metadata": {},
   "source": [
    "Compute dual-PRF outlier mask (note that this process is unfortunately slow, this is due to the median filter not being implemented to deal with masked arrays so that the slower \"generic filter\" has to be used):\n",
    "<br>\n",
    "<img src=\"files/output/c_outliers_map.png\" style=\"float: center; width: 45%\">"
   ]
  },
  {
   "cell_type": "code",
   "execution_count": 12,
   "metadata": {
    "collapsed": false
   },
   "outputs": [
    {
     "name": "stderr",
     "output_type": "stream",
     "text": [
      "/Users/patriciaaltube/anaconda/lib/python2.7/site-packages/numpy/lib/nanfunctions.py:612: RuntimeWarning: All-NaN slice encountered\n",
      "  warnings.warn(\"All-NaN slice encountered\", RuntimeWarning)\n"
     ]
    }
   ],
   "source": [
    "v_field = radar.fields['velocity']\n",
    "v_data = v_field['data']\n",
    "   \n",
    "outliers = v_data.copy()\n",
    "f_out = {'sweeps':np.empty([1, radar.nsweeps]), 'data':np.empty([1, radar.nsweeps])}\n",
    "for nsweep, sweep_slice in enumerate(radar.iter_slice()):\n",
    "    \n",
    "    f_out['sweeps'][0, nsweep] = nsweep\n",
    "    v_data_sw = v_data[sweep_slice]\n",
    "    f_out['data'][0,nsweep], outliers[sweep_slice] = dualPRF_outliers(v_data_sw, Ny_vel, Ny_H, f_ratio,\n",
    "                                                    k_size=(3,5), Nmin=9, prf_odd=odd)\n",
    "        "
   ]
  },
  {
   "cell_type": "code",
   "execution_count": 13,
   "metadata": {
    "collapsed": false
   },
   "outputs": [
    {
     "data": {
      "text/plain": [
       "{'data': array([[ 0.0262445 ,  0.01835143,  0.01138657,  0.01441914,  0.01371977,\n",
       "          0.01623147,  0.02490919,  0.03263263,  0.02790365]]),\n",
       " 'sweeps': array([[ 0.,  1.,  2.,  3.,  4.,  5.,  6.,  7.,  8.]])}"
      ]
     },
     "execution_count": 13,
     "metadata": {},
     "output_type": "execute_result"
    }
   ],
   "source": [
    "f_out"
   ]
  },
  {
   "cell_type": "code",
   "execution_count": 14,
   "metadata": {
    "collapsed": true
   },
   "outputs": [],
   "source": [
    "outl_f = radar.fields['velocity'].copy()\n",
    "outl_f['data'] = outliers\n",
    "outl_f['long_name'] = 'Dual-PRF outliers'\n",
    "outl_f['standard_name'] = 'dualPRF_outliers'\n",
    "outl_f['units']=''\n",
    "radar.add_field('dualPRF_outliers', outl_f)"
   ]
  },
  {
   "cell_type": "code",
   "execution_count": 15,
   "metadata": {
    "collapsed": true
   },
   "outputs": [],
   "source": [
    "display = pyart.graph.RadarDisplay(radar)\n",
    "fig = plt.figure(figsize=(8, 6))\n",
    "\n",
    "ax = fig.add_subplot(111)\n",
    "display.plot('dualPRF_outliers', sw_sel, ax=ax, vmin=0, vmax=1, mask_outside=False, cmap=cmap_out)\n",
    "display.plot_range_rings(range(25, 125, 25), lw=0.5, ls=':')\n",
    "display.plot_cross_hair(0.5)\n",
    "plt.xlim((-75, 75))\n",
    "plt.ylim((-75, 75))\n",
    "\n",
    "plt.savefig(fig_outliers)"
   ]
  },
  {
   "cell_type": "markdown",
   "metadata": {},
   "source": [
    "Mask outliers in velocity data and add the new data as a new field in the radar object:"
   ]
  },
  {
   "cell_type": "code",
   "execution_count": 16,
   "metadata": {
    "collapsed": false
   },
   "outputs": [],
   "source": [
    "v_field = radar.fields['velocity']\n",
    "mask_out = ma.mask_or(v_field['data'].mask, outl_f['data'].data.astype('bool'))\n",
    "\n",
    "v_field_noout = v_field.copy()\n",
    "v_field_noout['long_name'] = 'Velocity outliers removed'\n",
    "v_field_noout['standard_name'] = 'velocity_noout'\n",
    "v_field_noout['data'].mask = mask_out\n",
    "\n",
    "radar.add_field('velocity_noout', v_field_noout)"
   ]
  },
  {
   "cell_type": "code",
   "execution_count": 17,
   "metadata": {
    "collapsed": true
   },
   "outputs": [],
   "source": [
    "display = pyart.graph.RadarDisplay(radar)\n",
    "fig = plt.figure(figsize=(8, 6))\n",
    "\n",
    "ax = fig.add_subplot(111)\n",
    "display.plot('velocity_noout', sw_sel, vmin=-Ny_vel, vmax=Ny_vel, ax=ax, mask_outside=False, cmap=cmap_vel)\n",
    "display.plot_range_rings(range(25, 125, 25), lw=0.5, ls=':')\n",
    "display.plot_cross_hair(0.5)\n",
    "plt.xlim((-75, 75))\n",
    "plt.ylim((-75, 75))\n",
    "\n",
    "plt.savefig(fig_vel)\n"
   ]
  },
  {
   "cell_type": "markdown",
   "metadata": {},
   "source": [
    "Find edges in masked velocity data (without dual-PRF errors):"
   ]
  },
  {
   "cell_type": "code",
   "execution_count": 18,
   "metadata": {
    "collapsed": false
   },
   "outputs": [],
   "source": [
    "grad_mod = aliased_edges(radar)\n",
    "radar.add_field('gradient_module', grad_mod)"
   ]
  },
  {
   "cell_type": "code",
   "execution_count": 19,
   "metadata": {
    "collapsed": true
   },
   "outputs": [],
   "source": [
    "display = pyart.graph.RadarDisplay(radar)\n",
    "fig = plt.figure(figsize=(8, 6))\n",
    "\n",
    "ax = fig.add_subplot(111)\n",
    "display.plot('gradient_module', sw_sel, vmin=0, vmax=3*Ny_vel, ax=ax, mask_outside=False, cmap=cmap_edges)\n",
    "display.plot_range_rings(range(25, 125, 25), lw=0.5, ls=':')\n",
    "display.plot_cross_hair(0.5)\n",
    "plt.xlim((-75, 75))\n",
    "plt.ylim((-75, 75))\n",
    "\n",
    "plt.savefig(fig_edges)\n"
   ]
  },
  {
   "cell_type": "markdown",
   "metadata": {},
   "source": [
    "Plot two histograms of velocity gradients; with and withouth dual-PRF outliers:"
   ]
  },
  {
   "cell_type": "code",
   "execution_count": 20,
   "metadata": {
    "collapsed": false
   },
   "outputs": [],
   "source": [
    "plot_data_out=radar.get_field(sw_sel, 'gradient_module_out')\n",
    "\n",
    "fig = plt.figure()\n",
    "ax = fig.add_subplot(111)\n",
    "(n, bins, patches) = ax.hist(plot_data_out.compressed(), bins=round(3.5*Ny_vel), color='grey', alpha=0.8)\n",
    "ax.set_ylim([0,500])\n",
    "ax.set_xlim([0, 3.5*Ny_vel])\n",
    "ax.set_xlabel('Gradient module (m/s)')\n",
    "ax.set_ylabel('Pixel counts')\n",
    "\n",
    "plt.savefig(fig_hist_out)"
   ]
  },
  {
   "cell_type": "code",
   "execution_count": 21,
   "metadata": {
    "collapsed": false
   },
   "outputs": [],
   "source": [
    "fig_hist = out_path + 'g_gradient_hist.png'\n",
    "plot_data=radar.get_field(sw_sel, 'gradient_module')\n",
    "\n",
    "fig = plt.figure()\n",
    "ax = fig.add_subplot(111)\n",
    "(n, bins, patches) = ax.hist(plot_data.compressed(), bins=round(3.5*Ny_vel), color='grey', alpha=0.8)\n",
    "ax.set_ylim([0,500])\n",
    "ax.set_xlim([0, 3.5*Ny_vel])\n",
    "ax.set_xlabel('Gradient module (m/s)')\n",
    "ax.set_ylabel('Pixel counts')\n",
    "\n",
    "plt.savefig(fig_hist)"
   ]
  },
  {
   "cell_type": "markdown",
   "metadata": {
    "collapsed": false
   },
   "source": [
    "Results (with and without dual-PRF errors):\n",
    "<br>\n",
    "<img src=\"files/output/a_velocity_map.png\" style=\"float: left; width: 45%; margin-right: 1%; margin-bottom: 0.5em;\">\n",
    "<img src=\"files/output/d_velocity_map.png\" style=\"float: left; width: 45%; margin-right: 1%; margin-bottom: 0.5em;\">\n",
    "<br>\n",
    "<img src=\"files/output/b_edges_map.png\" style=\"float: left; width: 45%; margin-right: 1%; margin-bottom: 0.5em;\">\n",
    "<img src=\"files/output/e_edges_map.png\" style=\"float: left; width: 45%; margin-right: 1%; margin-bottom: 0.5em;\">\n",
    "<br>\n",
    "<img src=\"files/output/f_gradient_hist.png\" style=\"float: left; width: 42%; margin-right: 1%; margin-bottom: 0.5em;\">\n",
    "<img src=\"files/output/g_gradient_hist.png\" style=\"float: left; width: 42%; margin-right: 1%; margin-bottom: 0.5em;\">\n",
    "\n",
    "\n"
   ]
  },
  {
   "cell_type": "code",
   "execution_count": null,
   "metadata": {
    "collapsed": true
   },
   "outputs": [],
   "source": []
  }
 ],
 "metadata": {
  "kernelspec": {
   "display_name": "Python 2",
   "language": "python",
   "name": "python2"
  },
  "language_info": {
   "codemirror_mode": {
    "name": "ipython",
    "version": 2
   },
   "file_extension": ".py",
   "mimetype": "text/x-python",
   "name": "python",
   "nbconvert_exporter": "python",
   "pygments_lexer": "ipython2",
   "version": "2.7.10"
  }
 },
 "nbformat": 4,
 "nbformat_minor": 0
}
